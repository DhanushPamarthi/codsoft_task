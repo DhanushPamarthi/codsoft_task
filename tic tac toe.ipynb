{
 "cells": [
  {
   "cell_type": "markdown",
   "id": "88867f75",
   "metadata": {},
   "source": [
    "# TIC-TAC-TOE AI"
   ]
  },
  {
   "cell_type": "code",
   "execution_count": null,
   "id": "21f8983b",
   "metadata": {},
   "outputs": [],
   "source": []
  },
  {
   "cell_type": "markdown",
   "id": "ac975f51",
   "metadata": {},
   "source": [
    "# To print Board Format."
   ]
  },
  {
   "cell_type": "code",
   "execution_count": 8,
   "id": "d8c3926e",
   "metadata": {},
   "outputs": [],
   "source": [
    "import math\n",
    "def print_board(board):\n",
    "    print('----------')\n",
    "    print('|'+board[1] + ' | ' + board[2] + '| ' + board[3]+'|')\n",
    "    print('----------')\n",
    "    print('|'+board[4] + ' | ' + board[5] + '| ' + board[6]+'|')\n",
    "    print('----------')\n",
    "    print('|'+board[7] + ' | ' + board[8] + '| ' + board[9]+'|')\n",
    "    print('----------')"
   ]
  },
  {
   "cell_type": "markdown",
   "id": "cb5ff2b7",
   "metadata": {},
   "source": [
    "# To check winner:"
   ]
  },
  {
   "cell_type": "code",
   "execution_count": 9,
   "id": "c77535c1",
   "metadata": {},
   "outputs": [],
   "source": [
    "def check_winner(board, player):\n",
    "    win_patterns = [\n",
    "        [1, 2, 3], [4, 5, 6], [7, 8, 9],  #Rows\n",
    "        [1, 4, 7], [2, 5, 8], [3, 6, 9],  #Columns\n",
    "        [1, 5, 9], [3, 5, 7]              #Diagonals\n",
    "    ]\n",
    "    for pattern in win_patterns:\n",
    "        if all(board[i] == player for i in pattern):\n",
    "            return True\n",
    "    return False"
   ]
  },
  {
   "cell_type": "markdown",
   "id": "3a9a5666",
   "metadata": {},
   "source": [
    "# Check Draw:"
   ]
  },
  {
   "cell_type": "code",
   "execution_count": 10,
   "id": "52c219ce",
   "metadata": {},
   "outputs": [],
   "source": [
    "def check_draw(board):\n",
    "    return all(board[i] != ' ' for i in range(1, 10))"
   ]
  },
  {
   "cell_type": "markdown",
   "id": "7cd3d34e",
   "metadata": {},
   "source": [
    "# Process of approach:"
   ]
  },
  {
   "cell_type": "code",
   "execution_count": 11,
   "id": "0a8c19e3",
   "metadata": {},
   "outputs": [],
   "source": [
    "def minimax(board, depth, maximizing_player, alpha, beta):\n",
    "    scores = {'X': 1, 'O': -1, 'Tie': 0}\n",
    "\n",
    "    if check_winner(board, 'X'):\n",
    "        return scores['X']\n",
    "    if check_winner(board, 'O'):\n",
    "        return scores['O']\n",
    "    if check_draw(board):\n",
    "        return scores['Tie']\n",
    "\n",
    "    if maximizing_player:\n",
    "        max_eval = -math.inf\n",
    "        for i in range(1, 10):\n",
    "            if board[i] == ' ':\n",
    "                board[i] = 'X'\n",
    "                eval = minimax(board, depth + 1, False, alpha, beta)\n",
    "                board[i] = ' '\n",
    "                max_eval = max(max_eval, eval)\n",
    "                alpha = max(alpha, eval)\n",
    "                if beta <= alpha:\n",
    "                    break\n",
    "        return max_eval\n",
    "    else:\n",
    "        min_eval = math.inf\n",
    "        for i in range(1, 10):\n",
    "            if board[i] == ' ':\n",
    "                board[i] = 'O'\n",
    "                eval = minimax(board, depth + 1, True, alpha, beta)\n",
    "                board[i] = ' '\n",
    "                min_eval = min(min_eval, eval)\n",
    "                beta = min(beta, eval)\n",
    "                if beta <= alpha:\n",
    "                    break\n",
    "        return min_eval"
   ]
  },
  {
   "cell_type": "markdown",
   "id": "425b447f",
   "metadata": {},
   "source": [
    "# finding best move (for AI):"
   ]
  },
  {
   "cell_type": "code",
   "execution_count": 12,
   "id": "e0661808",
   "metadata": {},
   "outputs": [],
   "source": [
    "def find_best_move(board):\n",
    "    best_move = -1\n",
    "    best_eval = -math.inf\n",
    "    for i in range(1, 10):\n",
    "        if board[i] == ' ':\n",
    "            board[i] = 'X'\n",
    "            eval = minimax(board, 0, False, -math.inf, math.inf)\n",
    "            board[i] = ' '\n",
    "            if eval > best_eval:\n",
    "                best_eval = eval\n",
    "                best_move = i\n",
    "    return best_move"
   ]
  },
  {
   "cell_type": "markdown",
   "id": "d034d584",
   "metadata": {},
   "source": [
    "# Game play:"
   ]
  },
  {
   "cell_type": "code",
   "execution_count": 13,
   "id": "442f4e8c",
   "metadata": {},
   "outputs": [
    {
     "name": "stdout",
     "output_type": "stream",
     "text": [
      "----------\n",
      "|  |  |  |\n",
      "----------\n",
      "|  |  |  |\n",
      "----------\n",
      "|  |  |  |\n",
      "----------\n",
      "Enter your move (1-9): 5\n",
      "----------\n",
      "|X |  |  |\n",
      "----------\n",
      "|  | O|  |\n",
      "----------\n",
      "|  |  |  |\n",
      "----------\n",
      "Enter your move (1-9): 3\n",
      "----------\n",
      "|X |  | O|\n",
      "----------\n",
      "|  | O|  |\n",
      "----------\n",
      "|X |  |  |\n",
      "----------\n",
      "Enter your move (1-9): 4\n",
      "----------\n",
      "|X |  | O|\n",
      "----------\n",
      "|O | O| X|\n",
      "----------\n",
      "|X |  |  |\n",
      "----------\n",
      "Enter your move (1-9): 2\n",
      "----------\n",
      "|X | O| O|\n",
      "----------\n",
      "|O | O| X|\n",
      "----------\n",
      "|X | X|  |\n",
      "----------\n",
      "Enter your move (1-9): 9\n",
      "----------\n",
      "|X | O| O|\n",
      "----------\n",
      "|O | O| X|\n",
      "----------\n",
      "|X | X| O|\n",
      "----------\n",
      "It's a draw!\n"
     ]
    }
   ],
   "source": [
    "def play_tic_tac_toe():\n",
    "    board = {i: ' ' for i in range(1, 10)}\n",
    "\n",
    "    while True:\n",
    "        print_board(board)\n",
    "        move = int(input(\"Enter your move (1-9): \"))\n",
    "        if board[move] == ' ':\n",
    "            board[move] = 'O'\n",
    "            if check_winner(board, 'O'):\n",
    "                print_board(board)\n",
    "                print(\"Congratulations! You won!\")\n",
    "                break\n",
    "            if check_draw(board):\n",
    "                print_board(board)\n",
    "                print(\"It's a draw!\")\n",
    "                break\n",
    "            best_move = find_best_move(board)\n",
    "            board[best_move] = 'X'\n",
    "            if check_winner(board, 'X'):\n",
    "                print_board(board)\n",
    "                print(\"AI wins! Better luck next time.\")\n",
    "                break\n",
    "            if check_draw(board):\n",
    "                print_board(board)\n",
    "                print(\"It's a draw!\")\n",
    "                break\n",
    "        else:\n",
    "            print(\"Invalid move! Try again.\")\n",
    "\n",
    "if __name__ == \"__main__\":\n",
    "    play_tic_tac_toe()\n"
   ]
  },
  {
   "cell_type": "code",
   "execution_count": null,
   "id": "322a97f5",
   "metadata": {},
   "outputs": [],
   "source": []
  }
 ],
 "metadata": {
  "kernelspec": {
   "display_name": "Python 3 (ipykernel)",
   "language": "python",
   "name": "python3"
  },
  "language_info": {
   "codemirror_mode": {
    "name": "ipython",
    "version": 3
   },
   "file_extension": ".py",
   "mimetype": "text/x-python",
   "name": "python",
   "nbconvert_exporter": "python",
   "pygments_lexer": "ipython3",
   "version": "3.9.13"
  }
 },
 "nbformat": 4,
 "nbformat_minor": 5
}
